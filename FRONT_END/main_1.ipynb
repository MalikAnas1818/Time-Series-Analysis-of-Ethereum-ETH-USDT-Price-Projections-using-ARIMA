{
 "cells": [
  {
   "cell_type": "code",
   "execution_count": 3,
   "id": "b967b304",
   "metadata": {},
   "outputs": [],
   "source": [
    "import warnings\n",
    "warnings.filterwarnings('ignore')"
   ]
  },
  {
   "cell_type": "code",
   "execution_count": 1,
   "id": "7c9eefcc",
   "metadata": {},
   "outputs": [],
   "source": [
    "import streamlit as st\n",
    "import pandas as pd\n",
    "import numpy as np\n",
    "import matplotlib.pyplot as plt\n",
    "from datetime import timedelta\n",
    "from statsmodels.tsa.arima.model import ARIMAResults"
   ]
  },
  {
   "cell_type": "code",
   "execution_count": 4,
   "id": "eb08fba2",
   "metadata": {},
   "outputs": [
    {
     "name": "stderr",
     "output_type": "stream",
     "text": [
      "2025-06-15 12:34:28.421 Thread 'MainThread': missing ScriptRunContext! This warning can be ignored when running in bare mode.\n",
      "2025-06-15 12:34:28.422 Thread 'MainThread': missing ScriptRunContext! This warning can be ignored when running in bare mode.\n",
      "2025-06-15 12:34:28.424 Thread 'MainThread': missing ScriptRunContext! This warning can be ignored when running in bare mode.\n",
      "2025-06-15 12:34:28.426 Thread 'MainThread': missing ScriptRunContext! This warning can be ignored when running in bare mode.\n"
     ]
    },
    {
     "data": {
      "text/plain": [
       "DeltaGenerator()"
      ]
     },
     "execution_count": 4,
     "metadata": {},
     "output_type": "execute_result"
    }
   ],
   "source": [
    "# Title\n",
    "st.title(\"📊 Ethereum Price Forecasting (ETH/USDT)\")\n",
    "st.markdown(\"Predict future prices using a pre-trained ARIMA model.\")"
   ]
  },
  {
   "cell_type": "code",
   "execution_count": 27,
   "id": "c0aac38a",
   "metadata": {},
   "outputs": [
    {
     "data": {
      "text/html": [
       "<div>\n",
       "<style scoped>\n",
       "    .dataframe tbody tr th:only-of-type {\n",
       "        vertical-align: middle;\n",
       "    }\n",
       "\n",
       "    .dataframe tbody tr th {\n",
       "        vertical-align: top;\n",
       "    }\n",
       "\n",
       "    .dataframe thead th {\n",
       "        text-align: right;\n",
       "    }\n",
       "</style>\n",
       "<table border=\"1\" class=\"dataframe\">\n",
       "  <thead>\n",
       "    <tr style=\"text-align: right;\">\n",
       "      <th></th>\n",
       "      <th>Date</th>\n",
       "      <th>C</th>\n",
       "      <th>H</th>\n",
       "      <th>L</th>\n",
       "      <th>O</th>\n",
       "      <th>V</th>\n",
       "    </tr>\n",
       "  </thead>\n",
       "  <tbody>\n",
       "    <tr>\n",
       "      <th>0</th>\n",
       "      <td>2017-11-09</td>\n",
       "      <td>320.884003</td>\n",
       "      <td>329.451996</td>\n",
       "      <td>307.056000</td>\n",
       "      <td>308.644989</td>\n",
       "      <td>893249984</td>\n",
       "    </tr>\n",
       "    <tr>\n",
       "      <th>1</th>\n",
       "      <td>2017-11-10</td>\n",
       "      <td>299.252991</td>\n",
       "      <td>324.717987</td>\n",
       "      <td>294.541992</td>\n",
       "      <td>320.670990</td>\n",
       "      <td>885985984</td>\n",
       "    </tr>\n",
       "    <tr>\n",
       "      <th>2</th>\n",
       "      <td>2017-11-11</td>\n",
       "      <td>314.681000</td>\n",
       "      <td>319.453003</td>\n",
       "      <td>298.191986</td>\n",
       "      <td>298.585999</td>\n",
       "      <td>842300992</td>\n",
       "    </tr>\n",
       "    <tr>\n",
       "      <th>3</th>\n",
       "      <td>2017-11-12</td>\n",
       "      <td>307.907990</td>\n",
       "      <td>319.153015</td>\n",
       "      <td>298.513000</td>\n",
       "      <td>314.690002</td>\n",
       "      <td>1613479936</td>\n",
       "    </tr>\n",
       "    <tr>\n",
       "      <th>4</th>\n",
       "      <td>2017-11-13</td>\n",
       "      <td>316.716003</td>\n",
       "      <td>328.415009</td>\n",
       "      <td>307.024994</td>\n",
       "      <td>307.024994</td>\n",
       "      <td>1041889984</td>\n",
       "    </tr>\n",
       "    <tr>\n",
       "      <th>...</th>\n",
       "      <td>...</td>\n",
       "      <td>...</td>\n",
       "      <td>...</td>\n",
       "      <td>...</td>\n",
       "      <td>...</td>\n",
       "      <td>...</td>\n",
       "    </tr>\n",
       "    <tr>\n",
       "      <th>2605</th>\n",
       "      <td>2024-12-27</td>\n",
       "      <td>3328.916992</td>\n",
       "      <td>3436.710693</td>\n",
       "      <td>3302.575684</td>\n",
       "      <td>3331.053711</td>\n",
       "      <td>24091627403</td>\n",
       "    </tr>\n",
       "    <tr>\n",
       "      <th>2606</th>\n",
       "      <td>2024-12-28</td>\n",
       "      <td>3397.902344</td>\n",
       "      <td>3419.920166</td>\n",
       "      <td>3318.033936</td>\n",
       "      <td>3328.774658</td>\n",
       "      <td>14305648523</td>\n",
       "    </tr>\n",
       "    <tr>\n",
       "      <th>2607</th>\n",
       "      <td>2024-12-29</td>\n",
       "      <td>3349.513428</td>\n",
       "      <td>3406.648438</td>\n",
       "      <td>3321.664795</td>\n",
       "      <td>3397.862549</td>\n",
       "      <td>13440907792</td>\n",
       "    </tr>\n",
       "    <tr>\n",
       "      <th>2608</th>\n",
       "      <td>2024-12-30</td>\n",
       "      <td>3356.392578</td>\n",
       "      <td>3428.527344</td>\n",
       "      <td>3298.804443</td>\n",
       "      <td>3349.585938</td>\n",
       "      <td>26981583962</td>\n",
       "    </tr>\n",
       "    <tr>\n",
       "      <th>2609</th>\n",
       "      <td>2024-12-31</td>\n",
       "      <td>3332.531738</td>\n",
       "      <td>3444.396729</td>\n",
       "      <td>3311.412598</td>\n",
       "      <td>3356.394775</td>\n",
       "      <td>20845452085</td>\n",
       "    </tr>\n",
       "  </tbody>\n",
       "</table>\n",
       "<p>2610 rows × 6 columns</p>\n",
       "</div>"
      ],
      "text/plain": [
       "            Date            C            H            L            O  \\\n",
       "0     2017-11-09   320.884003   329.451996   307.056000   308.644989   \n",
       "1     2017-11-10   299.252991   324.717987   294.541992   320.670990   \n",
       "2     2017-11-11   314.681000   319.453003   298.191986   298.585999   \n",
       "3     2017-11-12   307.907990   319.153015   298.513000   314.690002   \n",
       "4     2017-11-13   316.716003   328.415009   307.024994   307.024994   \n",
       "...          ...          ...          ...          ...          ...   \n",
       "2605  2024-12-27  3328.916992  3436.710693  3302.575684  3331.053711   \n",
       "2606  2024-12-28  3397.902344  3419.920166  3318.033936  3328.774658   \n",
       "2607  2024-12-29  3349.513428  3406.648438  3321.664795  3397.862549   \n",
       "2608  2024-12-30  3356.392578  3428.527344  3298.804443  3349.585938   \n",
       "2609  2024-12-31  3332.531738  3444.396729  3311.412598  3356.394775   \n",
       "\n",
       "                V  \n",
       "0       893249984  \n",
       "1       885985984  \n",
       "2       842300992  \n",
       "3      1613479936  \n",
       "4      1041889984  \n",
       "...           ...  \n",
       "2605  24091627403  \n",
       "2606  14305648523  \n",
       "2607  13440907792  \n",
       "2608  26981583962  \n",
       "2609  20845452085  \n",
       "\n",
       "[2610 rows x 6 columns]"
      ]
     },
     "execution_count": 27,
     "metadata": {},
     "output_type": "execute_result"
    }
   ],
   "source": [
    "df = pd.read_csv(\"eth_price.csv\")\n",
    "df"
   ]
  },
  {
   "cell_type": "code",
   "execution_count": 31,
   "id": "7b6057c8",
   "metadata": {},
   "outputs": [
    {
     "name": "stdout",
     "output_type": "stream",
     "text": [
      "<class 'pandas.core.frame.DataFrame'>\n",
      "DatetimeIndex: 2610 entries, 2017-11-09 to 2024-12-31\n",
      "Data columns (total 6 columns):\n",
      " #   Column  Non-Null Count  Dtype  \n",
      "---  ------  --------------  -----  \n",
      " 0   index   2610 non-null   int64  \n",
      " 1   C       2610 non-null   float64\n",
      " 2   H       2610 non-null   float64\n",
      " 3   L       2610 non-null   float64\n",
      " 4   O       2610 non-null   float64\n",
      " 5   V       2610 non-null   int64  \n",
      "dtypes: float64(4), int64(2)\n",
      "memory usage: 142.7 KB\n"
     ]
    }
   ],
   "source": [
    "df.info()"
   ]
  },
  {
   "cell_type": "code",
   "execution_count": 32,
   "id": "1ba228fd",
   "metadata": {},
   "outputs": [
    {
     "data": {
      "text/plain": [
       "Index(['index', 'C', 'H', 'L', 'O', 'V'], dtype='object')"
      ]
     },
     "execution_count": 32,
     "metadata": {},
     "output_type": "execute_result"
    }
   ],
   "source": [
    "df.columns"
   ]
  },
  {
   "cell_type": "code",
   "execution_count": 33,
   "id": "d4ecb346",
   "metadata": {},
   "outputs": [
    {
     "data": {
      "text/plain": [
       "Index(['index', 'C', 'H', 'L', 'O', 'V'], dtype='object')"
      ]
     },
     "execution_count": 33,
     "metadata": {},
     "output_type": "execute_result"
    }
   ],
   "source": [
    "df.columns"
   ]
  },
  {
   "cell_type": "code",
   "execution_count": 38,
   "id": "cfaa1f82",
   "metadata": {},
   "outputs": [
    {
     "data": {
      "text/html": [
       "<div>\n",
       "<style scoped>\n",
       "    .dataframe tbody tr th:only-of-type {\n",
       "        vertical-align: middle;\n",
       "    }\n",
       "\n",
       "    .dataframe tbody tr th {\n",
       "        vertical-align: top;\n",
       "    }\n",
       "\n",
       "    .dataframe thead th {\n",
       "        text-align: right;\n",
       "    }\n",
       "</style>\n",
       "<table border=\"1\" class=\"dataframe\">\n",
       "  <thead>\n",
       "    <tr style=\"text-align: right;\">\n",
       "      <th></th>\n",
       "      <th>Date</th>\n",
       "      <th>C</th>\n",
       "      <th>H</th>\n",
       "      <th>L</th>\n",
       "      <th>O</th>\n",
       "      <th>V</th>\n",
       "    </tr>\n",
       "  </thead>\n",
       "  <tbody>\n",
       "    <tr>\n",
       "      <th>0</th>\n",
       "      <td>2017-11-09</td>\n",
       "      <td>320.884003</td>\n",
       "      <td>329.451996</td>\n",
       "      <td>307.056000</td>\n",
       "      <td>308.644989</td>\n",
       "      <td>893249984</td>\n",
       "    </tr>\n",
       "    <tr>\n",
       "      <th>1</th>\n",
       "      <td>2017-11-10</td>\n",
       "      <td>299.252991</td>\n",
       "      <td>324.717987</td>\n",
       "      <td>294.541992</td>\n",
       "      <td>320.670990</td>\n",
       "      <td>885985984</td>\n",
       "    </tr>\n",
       "    <tr>\n",
       "      <th>2</th>\n",
       "      <td>2017-11-11</td>\n",
       "      <td>314.681000</td>\n",
       "      <td>319.453003</td>\n",
       "      <td>298.191986</td>\n",
       "      <td>298.585999</td>\n",
       "      <td>842300992</td>\n",
       "    </tr>\n",
       "    <tr>\n",
       "      <th>3</th>\n",
       "      <td>2017-11-12</td>\n",
       "      <td>307.907990</td>\n",
       "      <td>319.153015</td>\n",
       "      <td>298.513000</td>\n",
       "      <td>314.690002</td>\n",
       "      <td>1613479936</td>\n",
       "    </tr>\n",
       "    <tr>\n",
       "      <th>4</th>\n",
       "      <td>2017-11-13</td>\n",
       "      <td>316.716003</td>\n",
       "      <td>328.415009</td>\n",
       "      <td>307.024994</td>\n",
       "      <td>307.024994</td>\n",
       "      <td>1041889984</td>\n",
       "    </tr>\n",
       "    <tr>\n",
       "      <th>...</th>\n",
       "      <td>...</td>\n",
       "      <td>...</td>\n",
       "      <td>...</td>\n",
       "      <td>...</td>\n",
       "      <td>...</td>\n",
       "      <td>...</td>\n",
       "    </tr>\n",
       "    <tr>\n",
       "      <th>2605</th>\n",
       "      <td>2024-12-27</td>\n",
       "      <td>3328.916992</td>\n",
       "      <td>3436.710693</td>\n",
       "      <td>3302.575684</td>\n",
       "      <td>3331.053711</td>\n",
       "      <td>24091627403</td>\n",
       "    </tr>\n",
       "    <tr>\n",
       "      <th>2606</th>\n",
       "      <td>2024-12-28</td>\n",
       "      <td>3397.902344</td>\n",
       "      <td>3419.920166</td>\n",
       "      <td>3318.033936</td>\n",
       "      <td>3328.774658</td>\n",
       "      <td>14305648523</td>\n",
       "    </tr>\n",
       "    <tr>\n",
       "      <th>2607</th>\n",
       "      <td>2024-12-29</td>\n",
       "      <td>3349.513428</td>\n",
       "      <td>3406.648438</td>\n",
       "      <td>3321.664795</td>\n",
       "      <td>3397.862549</td>\n",
       "      <td>13440907792</td>\n",
       "    </tr>\n",
       "    <tr>\n",
       "      <th>2608</th>\n",
       "      <td>2024-12-30</td>\n",
       "      <td>3356.392578</td>\n",
       "      <td>3428.527344</td>\n",
       "      <td>3298.804443</td>\n",
       "      <td>3349.585938</td>\n",
       "      <td>26981583962</td>\n",
       "    </tr>\n",
       "    <tr>\n",
       "      <th>2609</th>\n",
       "      <td>2024-12-31</td>\n",
       "      <td>3332.531738</td>\n",
       "      <td>3444.396729</td>\n",
       "      <td>3311.412598</td>\n",
       "      <td>3356.394775</td>\n",
       "      <td>20845452085</td>\n",
       "    </tr>\n",
       "  </tbody>\n",
       "</table>\n",
       "<p>2610 rows × 6 columns</p>\n",
       "</div>"
      ],
      "text/plain": [
       "           Date            C            H            L            O  \\\n",
       "0    2017-11-09   320.884003   329.451996   307.056000   308.644989   \n",
       "1    2017-11-10   299.252991   324.717987   294.541992   320.670990   \n",
       "2    2017-11-11   314.681000   319.453003   298.191986   298.585999   \n",
       "3    2017-11-12   307.907990   319.153015   298.513000   314.690002   \n",
       "4    2017-11-13   316.716003   328.415009   307.024994   307.024994   \n",
       "...         ...          ...          ...          ...          ...   \n",
       "2605 2024-12-27  3328.916992  3436.710693  3302.575684  3331.053711   \n",
       "2606 2024-12-28  3397.902344  3419.920166  3318.033936  3328.774658   \n",
       "2607 2024-12-29  3349.513428  3406.648438  3321.664795  3397.862549   \n",
       "2608 2024-12-30  3356.392578  3428.527344  3298.804443  3349.585938   \n",
       "2609 2024-12-31  3332.531738  3444.396729  3311.412598  3356.394775   \n",
       "\n",
       "                V  \n",
       "0       893249984  \n",
       "1       885985984  \n",
       "2       842300992  \n",
       "3      1613479936  \n",
       "4      1041889984  \n",
       "...           ...  \n",
       "2605  24091627403  \n",
       "2606  14305648523  \n",
       "2607  13440907792  \n",
       "2608  26981583962  \n",
       "2609  20845452085  \n",
       "\n",
       "[2610 rows x 6 columns]"
      ]
     },
     "execution_count": 38,
     "metadata": {},
     "output_type": "execute_result"
    }
   ],
   "source": [
    "df.reset_index().drop('index', axis=1)"
   ]
  },
  {
   "cell_type": "code",
   "execution_count": 39,
   "id": "1d418355",
   "metadata": {},
   "outputs": [
    {
     "name": "stderr",
     "output_type": "stream",
     "text": [
      "2025-06-15 12:50:43.835 No runtime found, using MemoryCacheStorageManager\n"
     ]
    }
   ],
   "source": [
    "@st.cache_data\n",
    "def load_data():\n",
    "    df = pd.read_csv(\"eth_price.csv\")\n",
    "    df = df.reset_index().drop('index', axis=1)\n",
    "    df['Date'] = pd.to_datetime(df['Date'])\n",
    "    df.set_index(\"Date\", inplace=True)\n",
    "    return df\n"
   ]
  },
  {
   "cell_type": "code",
   "execution_count": 40,
   "id": "9ddbaa2f",
   "metadata": {},
   "outputs": [],
   "source": [
    "@st.cache_resource\n",
    "def load_model():\n",
    "    model = ARIMAResults.load(\"arima_model.pkl\")\n",
    "    return model\n"
   ]
  },
  {
   "cell_type": "code",
   "execution_count": 41,
   "id": "6aa1c7ff",
   "metadata": {},
   "outputs": [
    {
     "name": "stderr",
     "output_type": "stream",
     "text": [
      "2025-06-15 12:50:45.250 No runtime found, using MemoryCacheStorageManager\n",
      "2025-06-15 12:50:45.252 Thread 'MainThread': missing ScriptRunContext! This warning can be ignored when running in bare mode.\n",
      "2025-06-15 12:50:45.253 Thread 'MainThread': missing ScriptRunContext! This warning can be ignored when running in bare mode.\n",
      "2025-06-15 12:50:45.255 Thread 'MainThread': missing ScriptRunContext! This warning can be ignored when running in bare mode.\n",
      "2025-06-15 12:50:45.279 Thread 'MainThread': missing ScriptRunContext! This warning can be ignored when running in bare mode.\n",
      "2025-06-15 12:50:45.281 Thread 'MainThread': missing ScriptRunContext! This warning can be ignored when running in bare mode.\n"
     ]
    }
   ],
   "source": [
    "# Load\n",
    "df = load_data()\n",
    "model = load_model()\n"
   ]
  },
  {
   "cell_type": "code",
   "execution_count": 42,
   "id": "f1dca991",
   "metadata": {},
   "outputs": [
    {
     "name": "stderr",
     "output_type": "stream",
     "text": [
      "2025-06-15 12:50:45.990 Thread 'MainThread': missing ScriptRunContext! This warning can be ignored when running in bare mode.\n",
      "2025-06-15 12:50:45.992 Thread 'MainThread': missing ScriptRunContext! This warning can be ignored when running in bare mode.\n",
      "2025-06-15 12:50:46.065 Thread 'MainThread': missing ScriptRunContext! This warning can be ignored when running in bare mode.\n",
      "2025-06-15 12:50:46.066 Thread 'MainThread': missing ScriptRunContext! This warning can be ignored when running in bare mode.\n",
      "2025-06-15 12:50:46.067 Thread 'MainThread': missing ScriptRunContext! This warning can be ignored when running in bare mode.\n",
      "2025-06-15 12:50:46.069 Thread 'MainThread': missing ScriptRunContext! This warning can be ignored when running in bare mode.\n",
      "2025-06-15 12:50:46.073 Thread 'MainThread': missing ScriptRunContext! This warning can be ignored when running in bare mode.\n",
      "2025-06-15 12:50:46.075 Thread 'MainThread': missing ScriptRunContext! This warning can be ignored when running in bare mode.\n",
      "2025-06-15 12:50:46.076 Thread 'MainThread': missing ScriptRunContext! This warning can be ignored when running in bare mode.\n",
      "2025-06-15 12:50:46.077 Thread 'MainThread': missing ScriptRunContext! This warning can be ignored when running in bare mode.\n",
      "2025-06-15 12:50:46.079 Thread 'MainThread': missing ScriptRunContext! This warning can be ignored when running in bare mode.\n",
      "2025-06-15 12:50:46.080 Thread 'MainThread': missing ScriptRunContext! This warning can be ignored when running in bare mode.\n"
     ]
    }
   ],
   "source": [
    "# Date filter\n",
    "st.subheader(\"📅 Select Date Range to View Historical Data\")\n",
    "start_date = st.date_input(\"Start Date\", df.index.min().date())\n",
    "end_date = st.date_input(\"End Date\", df.index.max().date())\n"
   ]
  },
  {
   "cell_type": "code",
   "execution_count": 43,
   "id": "5936a601",
   "metadata": {},
   "outputs": [],
   "source": [
    "# Filtered Data\n",
    "filtered_df = df.loc[start_date:end_date]\n"
   ]
  },
  {
   "cell_type": "code",
   "execution_count": 45,
   "id": "99535aa5",
   "metadata": {},
   "outputs": [
    {
     "name": "stderr",
     "output_type": "stream",
     "text": [
      "2025-06-15 12:54:00.336 Thread 'MainThread': missing ScriptRunContext! This warning can be ignored when running in bare mode.\n",
      "2025-06-15 12:54:00.338 Thread 'MainThread': missing ScriptRunContext! This warning can be ignored when running in bare mode.\n",
      "2025-06-15 12:54:02.953 Thread 'MainThread': missing ScriptRunContext! This warning can be ignored when running in bare mode.\n",
      "2025-06-15 12:54:02.954 Thread 'MainThread': missing ScriptRunContext! This warning can be ignored when running in bare mode.\n"
     ]
    },
    {
     "data": {
      "text/plain": [
       "DeltaGenerator()"
      ]
     },
     "execution_count": 45,
     "metadata": {},
     "output_type": "execute_result"
    }
   ],
   "source": [
    "# Show historical data\n",
    "st.subheader(\"📈 Historical ETH Price\")\n",
    "st.line_chart(filtered_df[\"C\"])\n"
   ]
  },
  {
   "cell_type": "code",
   "execution_count": 46,
   "id": "0c7b4be0",
   "metadata": {},
   "outputs": [
    {
     "name": "stderr",
     "output_type": "stream",
     "text": [
      "2025-06-15 12:54:26.385 Thread 'MainThread': missing ScriptRunContext! This warning can be ignored when running in bare mode.\n",
      "2025-06-15 12:54:26.387 Thread 'MainThread': missing ScriptRunContext! This warning can be ignored when running in bare mode.\n",
      "2025-06-15 12:54:26.388 Thread 'MainThread': missing ScriptRunContext! This warning can be ignored when running in bare mode.\n",
      "2025-06-15 12:54:26.390 Thread 'MainThread': missing ScriptRunContext! This warning can be ignored when running in bare mode.\n",
      "2025-06-15 12:54:26.391 Session state does not function when running a script without `streamlit run`\n",
      "2025-06-15 12:54:26.393 Thread 'MainThread': missing ScriptRunContext! This warning can be ignored when running in bare mode.\n",
      "2025-06-15 12:54:26.394 Thread 'MainThread': missing ScriptRunContext! This warning can be ignored when running in bare mode.\n"
     ]
    }
   ],
   "source": [
    "# User input for prediction\n",
    "n_days = st.number_input(\"🔮 Number of Days to Forecast\", min_value=1, max_value=100, value=10)\n"
   ]
  },
  {
   "cell_type": "code",
   "execution_count": 52,
   "id": "c76d5c6f",
   "metadata": {},
   "outputs": [
    {
     "name": "stderr",
     "output_type": "stream",
     "text": [
      "2025-06-15 12:57:03.388 Thread 'MainThread': missing ScriptRunContext! This warning can be ignored when running in bare mode.\n",
      "2025-06-15 12:57:03.390 Thread 'MainThread': missing ScriptRunContext! This warning can be ignored when running in bare mode.\n",
      "2025-06-15 12:57:03.391 Thread 'MainThread': missing ScriptRunContext! This warning can be ignored when running in bare mode.\n",
      "2025-06-15 12:57:03.393 Thread 'MainThread': missing ScriptRunContext! This warning can be ignored when running in bare mode.\n",
      "2025-06-15 12:57:03.394 Thread 'MainThread': missing ScriptRunContext! This warning can be ignored when running in bare mode.\n"
     ]
    }
   ],
   "source": [
    "# Predict\n",
    "if st.button(\"🚀 Predict Future Prices\"):\n",
    "    forecast = model.get_forecast(steps=n_days)\n",
    "    pred = forecast.predicted_mean\n",
    "\n",
    "    last_date = df.index[-1]\n",
    "    future_dates = pd.date_range(start=last_date + timedelta(days=1), periods=n_days)\n",
    "\n",
    "    pred_df = pd.DataFrame({'Predicted Price': pred.values}, index=future_dates)\n",
    "        # Combined chart\n",
    "    combined = pd.concat([df[\"C\"].tail(30), pred_df[\"Predicted Price\"]])\n",
    "    st.subheader(\"📊 Combined Chart: Last 30 Days + Forecast\")\n",
    "    st.line_chart(combined)\n",
    "        # Show forecast table (optional)\n",
    "    st.subheader(\"🧾 Forecast Data\")\n",
    "    st.dataframe(pred_df)\n"
   ]
  },
  {
   "cell_type": "code",
   "execution_count": null,
   "id": "af426152",
   "metadata": {},
   "outputs": [],
   "source": []
  },
  {
   "cell_type": "code",
   "execution_count": null,
   "id": "625646a5",
   "metadata": {},
   "outputs": [],
   "source": []
  }
 ],
 "metadata": {
  "kernelspec": {
   "display_name": "arima_env",
   "language": "python",
   "name": "python3"
  },
  "language_info": {
   "codemirror_mode": {
    "name": "ipython",
    "version": 3
   },
   "file_extension": ".py",
   "mimetype": "text/x-python",
   "name": "python",
   "nbconvert_exporter": "python",
   "pygments_lexer": "ipython3",
   "version": "3.13.2"
  }
 },
 "nbformat": 4,
 "nbformat_minor": 5
}
